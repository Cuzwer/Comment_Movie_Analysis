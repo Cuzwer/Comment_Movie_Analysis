{
 "cells": [
  {
   "cell_type": "markdown",
   "id": "b7f46379",
   "metadata": {},
   "source": [
    "*** MiniProject: Deep Learning for Movie Reviews Sentiment Analysis ***"
   ]
  },
  {
   "cell_type": "markdown",
   "id": "04b3f00e",
   "metadata": {},
   "source": [
    "\n",
    "> 📌 ปัญหา (Problem Statement) : \n",
    "Mini Project นี้เกี่ยวกับการวิเคราะห์ความคิดเห็น(Comment) ของผู้ชมว่าชอบ(Positive)หรือไม่ชอบ(Negative)จากรีวิวที่เขียนไว้ ? \n",
    "> วัตถุประสงค์ :  \n",
    "- สร้าง Deep learning เพื่อจําเเนกความรู้สึกขอผู้ชม\n",
    "- ใช้ Convolutional Neural Network (CNN) ในการประมวลผลข้อความ\n",
    "- ประเมินประสิทธิภาพของโมเดลด้วย Accuracy และ Loss\n",
    "> ข้อมูลพื้นฐาน : \n",
    "- จํานวนข้อมูล 50,000 รีวิวภาพยนต์ \n",
    "    - 25,000 สําหรับ Training Dataset \n",
    "    - 25,000 สําหรับ Testing Dataset\n",
    "- Label:\n",
    "    - 0 = Negative (ไม่ชอบ)\n",
    "    - 1 = Positive (ชอบ)\n",
    "- Dataset มีหร้อมใน keras\n",
    "- ลักษณะข้อมูลจะเป็นข้อความรีวิวภาษาอังกฤษที่ถูกแปลงเป็นลำดับของตัวเลข"
   ]
  },
  {
   "cell_type": "markdown",
   "id": "643e1bc4",
   "metadata": {},
   "source": [
    "### นําเข้าคลังไลบราลี้ที่ต้องการใช้งาน "
   ]
  },
  {
   "cell_type": "code",
   "execution_count": 2,
   "id": "a9bb8d56",
   "metadata": {},
   "outputs": [],
   "source": [
    "import numpy as np\n",
    "import tensorflow as tf\n",
    "from tensorflow.keras import layers, models\n",
    "from tensorflow.keras.datasets import imdb\n",
    "from tensorflow.keras.preprocessing.sequence import pad_sequences\n",
    "import matplotlib.pyplot as plt"
   ]
  },
  {
   "cell_type": "code",
   "execution_count": 24,
   "id": "a0486f04",
   "metadata": {},
   "outputs": [
    {
     "name": "stdout",
     "output_type": "stream",
     "text": [
      "TensorFlow version: 2.20.0\n",
      "CPU Available: [PhysicalDevice(name='/physical_device:CPU:0', device_type='CPU')]\n"
     ]
    }
   ],
   "source": [
    "print(\"TensorFlow version:\", tf.__version__)\n",
    "print(\"CPU Available:\", tf.config.list_physical_devices('CPU'))"
   ]
  },
  {
   "cell_type": "markdown",
   "id": "e602f25f",
   "metadata": {},
   "source": [
    "### 1.โหลดข้อมูล Dataset จาก Keras"
   ]
  },
  {
   "cell_type": "code",
   "execution_count": null,
   "id": "02c5151e",
   "metadata": {},
   "outputs": [
    {
     "name": "stdout",
     "output_type": "stream",
     "text": [
      "Training samples: 25000\n",
      "Testing samples: 25000\n",
      "Example review (as numbers): [1, 14, 22, 16, 43, 530, 973, 1622, 1385, 65]...\n",
      "Label: 1 (0=Negative, 1=Positive)\n"
     ]
    }
   ],
   "source": [
    "vocab_size = 10000\n",
    "max_length = 250 \n",
    "(x_train, y_train) , (x_test, y_test) = imdb.load_data(num_words=vocab_size)\n",
    "\n",
    "print(f\"Training samples: {len(x_train)}\")\n",
    "print(f\"Testing samples: {len(x_test)}\")\n",
    "print(f\"Example review (as numbers): {x_train[0][:10]}...\")  # แสดง 10 ตัวแรก\n",
    "print(f\"Label: {y_train[0]} (0=Negative, 1=Positive)\")\n"
   ]
  },
  {
   "cell_type": "markdown",
   "id": "b6d7e506",
   "metadata": {},
   "source": [
    "### 2. ขั้นตอนประมวลผลโมเดล"
   ]
  },
  {
   "cell_type": "code",
   "execution_count": null,
   "id": "b6de053f",
   "metadata": {},
   "outputs": [
    {
     "name": "stdout",
     "output_type": "stream",
     "text": [
      "Training data shape: (25000, 250)\n",
      "Testing data shape: (25000, 250)\n",
      "Discribe The first Element 250\n"
     ]
    }
   ],
   "source": [
    "x_train = pad_sequences(x_train, maxlen=max_length, padding='post') # กําหนด Paddding ให้เป็น 250 คําทุกๆ data set training\n",
    "x_test = pad_sequences(x_test, maxlen=max_length, padding='post') # กําหนด Paddding ให้เป็น 250 คําทุกๆ data set test\n",
    "print(f\"Training data shape: {x_train.shape}\")\n",
    "print(f\"Testing data shape: {x_test.shape}\")\n",
    "print(f\"Discribe The first Element  {len(x_test[0])}\" )"
   ]
  },
  {
   "cell_type": "markdown",
   "id": "c1e9c286",
   "metadata": {},
   "source": [
    "### 3. สร้าง CNN Model"
   ]
  },
  {
   "cell_type": "code",
   "execution_count": null,
   "id": "cf00859b",
   "metadata": {},
   "outputs": [
    {
     "data": {
      "text/html": [
       "<pre style=\"white-space:pre;overflow-x:auto;line-height:normal;font-family:Menlo,'DejaVu Sans Mono',consolas,'Courier New',monospace\"><span style=\"font-weight: bold\">Model: \"sequential_2\"</span>\n",
       "</pre>\n"
      ],
      "text/plain": [
       "\u001b[1mModel: \"sequential_2\"\u001b[0m\n"
      ]
     },
     "metadata": {},
     "output_type": "display_data"
    },
    {
     "data": {
      "text/html": [
       "<pre style=\"white-space:pre;overflow-x:auto;line-height:normal;font-family:Menlo,'DejaVu Sans Mono',consolas,'Courier New',monospace\">┏━━━━━━━━━━━━━━━━━━━━━━━━━━━━━━━━━┳━━━━━━━━━━━━━━━━━━━━━━━━┳━━━━━━━━━━━━━━━┓\n",
       "┃<span style=\"font-weight: bold\"> Layer (type)                    </span>┃<span style=\"font-weight: bold\"> Output Shape           </span>┃<span style=\"font-weight: bold\">       Param # </span>┃\n",
       "┡━━━━━━━━━━━━━━━━━━━━━━━━━━━━━━━━━╇━━━━━━━━━━━━━━━━━━━━━━━━╇━━━━━━━━━━━━━━━┩\n",
       "│ embedding_2 (<span style=\"color: #0087ff; text-decoration-color: #0087ff\">Embedding</span>)         │ ?                      │   <span style=\"color: #00af00; text-decoration-color: #00af00\">0</span> (unbuilt) │\n",
       "├─────────────────────────────────┼────────────────────────┼───────────────┤\n",
       "│ dropout_4 (<span style=\"color: #0087ff; text-decoration-color: #0087ff\">Dropout</span>)             │ ?                      │             <span style=\"color: #00af00; text-decoration-color: #00af00\">0</span> │\n",
       "├─────────────────────────────────┼────────────────────────┼───────────────┤\n",
       "│ conv1d_2 (<span style=\"color: #0087ff; text-decoration-color: #0087ff\">Conv1D</span>)               │ ?                      │   <span style=\"color: #00af00; text-decoration-color: #00af00\">0</span> (unbuilt) │\n",
       "├─────────────────────────────────┼────────────────────────┼───────────────┤\n",
       "│ global_max_pooling1d_2          │ ?                      │             <span style=\"color: #00af00; text-decoration-color: #00af00\">0</span> │\n",
       "│ (<span style=\"color: #0087ff; text-decoration-color: #0087ff\">GlobalMaxPooling1D</span>)            │                        │               │\n",
       "├─────────────────────────────────┼────────────────────────┼───────────────┤\n",
       "│ dense_4 (<span style=\"color: #0087ff; text-decoration-color: #0087ff\">Dense</span>)                 │ ?                      │   <span style=\"color: #00af00; text-decoration-color: #00af00\">0</span> (unbuilt) │\n",
       "├─────────────────────────────────┼────────────────────────┼───────────────┤\n",
       "│ dropout_5 (<span style=\"color: #0087ff; text-decoration-color: #0087ff\">Dropout</span>)             │ ?                      │             <span style=\"color: #00af00; text-decoration-color: #00af00\">0</span> │\n",
       "├─────────────────────────────────┼────────────────────────┼───────────────┤\n",
       "│ dense_5 (<span style=\"color: #0087ff; text-decoration-color: #0087ff\">Dense</span>)                 │ ?                      │   <span style=\"color: #00af00; text-decoration-color: #00af00\">0</span> (unbuilt) │\n",
       "└─────────────────────────────────┴────────────────────────┴───────────────┘\n",
       "</pre>\n"
      ],
      "text/plain": [
       "┏━━━━━━━━━━━━━━━━━━━━━━━━━━━━━━━━━┳━━━━━━━━━━━━━━━━━━━━━━━━┳━━━━━━━━━━━━━━━┓\n",
       "┃\u001b[1m \u001b[0m\u001b[1mLayer (type)                   \u001b[0m\u001b[1m \u001b[0m┃\u001b[1m \u001b[0m\u001b[1mOutput Shape          \u001b[0m\u001b[1m \u001b[0m┃\u001b[1m \u001b[0m\u001b[1m      Param #\u001b[0m\u001b[1m \u001b[0m┃\n",
       "┡━━━━━━━━━━━━━━━━━━━━━━━━━━━━━━━━━╇━━━━━━━━━━━━━━━━━━━━━━━━╇━━━━━━━━━━━━━━━┩\n",
       "│ embedding_2 (\u001b[38;5;33mEmbedding\u001b[0m)         │ ?                      │   \u001b[38;5;34m0\u001b[0m (unbuilt) │\n",
       "├─────────────────────────────────┼────────────────────────┼───────────────┤\n",
       "│ dropout_4 (\u001b[38;5;33mDropout\u001b[0m)             │ ?                      │             \u001b[38;5;34m0\u001b[0m │\n",
       "├─────────────────────────────────┼────────────────────────┼───────────────┤\n",
       "│ conv1d_2 (\u001b[38;5;33mConv1D\u001b[0m)               │ ?                      │   \u001b[38;5;34m0\u001b[0m (unbuilt) │\n",
       "├─────────────────────────────────┼────────────────────────┼───────────────┤\n",
       "│ global_max_pooling1d_2          │ ?                      │             \u001b[38;5;34m0\u001b[0m │\n",
       "│ (\u001b[38;5;33mGlobalMaxPooling1D\u001b[0m)            │                        │               │\n",
       "├─────────────────────────────────┼────────────────────────┼───────────────┤\n",
       "│ dense_4 (\u001b[38;5;33mDense\u001b[0m)                 │ ?                      │   \u001b[38;5;34m0\u001b[0m (unbuilt) │\n",
       "├─────────────────────────────────┼────────────────────────┼───────────────┤\n",
       "│ dropout_5 (\u001b[38;5;33mDropout\u001b[0m)             │ ?                      │             \u001b[38;5;34m0\u001b[0m │\n",
       "├─────────────────────────────────┼────────────────────────┼───────────────┤\n",
       "│ dense_5 (\u001b[38;5;33mDense\u001b[0m)                 │ ?                      │   \u001b[38;5;34m0\u001b[0m (unbuilt) │\n",
       "└─────────────────────────────────┴────────────────────────┴───────────────┘\n"
      ]
     },
     "metadata": {},
     "output_type": "display_data"
    },
    {
     "data": {
      "text/html": [
       "<pre style=\"white-space:pre;overflow-x:auto;line-height:normal;font-family:Menlo,'DejaVu Sans Mono',consolas,'Courier New',monospace\"><span style=\"font-weight: bold\"> Total params: </span><span style=\"color: #00af00; text-decoration-color: #00af00\">0</span> (0.00 B)\n",
       "</pre>\n"
      ],
      "text/plain": [
       "\u001b[1m Total params: \u001b[0m\u001b[38;5;34m0\u001b[0m (0.00 B)\n"
      ]
     },
     "metadata": {},
     "output_type": "display_data"
    },
    {
     "data": {
      "text/html": [
       "<pre style=\"white-space:pre;overflow-x:auto;line-height:normal;font-family:Menlo,'DejaVu Sans Mono',consolas,'Courier New',monospace\"><span style=\"font-weight: bold\"> Trainable params: </span><span style=\"color: #00af00; text-decoration-color: #00af00\">0</span> (0.00 B)\n",
       "</pre>\n"
      ],
      "text/plain": [
       "\u001b[1m Trainable params: \u001b[0m\u001b[38;5;34m0\u001b[0m (0.00 B)\n"
      ]
     },
     "metadata": {},
     "output_type": "display_data"
    },
    {
     "data": {
      "text/html": [
       "<pre style=\"white-space:pre;overflow-x:auto;line-height:normal;font-family:Menlo,'DejaVu Sans Mono',consolas,'Courier New',monospace\"><span style=\"font-weight: bold\"> Non-trainable params: </span><span style=\"color: #00af00; text-decoration-color: #00af00\">0</span> (0.00 B)\n",
       "</pre>\n"
      ],
      "text/plain": [
       "\u001b[1m Non-trainable params: \u001b[0m\u001b[38;5;34m0\u001b[0m (0.00 B)\n"
      ]
     },
     "metadata": {},
     "output_type": "display_data"
    }
   ],
   "source": [
    "model = models.Sequential([\n",
    "    # Embedding Layer - แปลงคำ (ตัวเลข) เป็น dense vectors\n",
    "    layers.Embedding(input_dim=vocab_size, \n",
    "                    output_dim=128,           # แต่ละคำเป็น vector 128 มิติ\n",
    "                    input_length=max_length),\n",
    "    \n",
    "    # Dropout เพื่อป้องกัน overfitting\n",
    "    layers.Dropout(0.3),\n",
    "    \n",
    "    # 1D Convolution - หา patterns ในข้อความ\n",
    "    layers.Conv1D(filters=128, \n",
    "                 kernel_size=5,               # มอง 5 คำต่อเนื่องกัน\n",
    "                 activation='relu'),\n",
    "    \n",
    "    # MaxPooling - เลือกส่วนสำคัญสุด\n",
    "    layers.GlobalMaxPooling1D(),\n",
    "    \n",
    "    # Dense Layers\n",
    "    layers.Dense(128, activation='relu'),\n",
    "    layers.Dropout(0.5),\n",
    "    \n",
    "    # Output Layer - Positive (1) or Negative (0)\n",
    "    layers.Dense(1, activation='sigmoid')\n",
    "])\n",
    "# Compile Model\n",
    "model.compile(\n",
    "    optimizer='adam',\n",
    "    loss='binary_crossentropy',\n",
    "    metrics=['accuracy']\n",
    ")\n"
   ]
  },
  {
   "cell_type": "markdown",
   "id": "7bff1e78",
   "metadata": {},
   "source": [
    "### 4. Train Model"
   ]
  },
  {
   "cell_type": "code",
   "execution_count": 28,
   "id": "acae62d3",
   "metadata": {},
   "outputs": [
    {
     "name": "stdout",
     "output_type": "stream",
     "text": [
      "Training Model...\n",
      "Epoch 1/10\n",
      "\u001b[1m157/157\u001b[0m \u001b[32m━━━━━━━━━━━━━━━━━━━━\u001b[0m\u001b[37m\u001b[0m \u001b[1m12s\u001b[0m 65ms/step - accuracy: 0.6607 - loss: 0.5836 - val_accuracy: 0.8324 - val_loss: 0.3807\n",
      "Epoch 2/10\n",
      "\u001b[1m157/157\u001b[0m \u001b[32m━━━━━━━━━━━━━━━━━━━━\u001b[0m\u001b[37m\u001b[0m \u001b[1m10s\u001b[0m 66ms/step - accuracy: 0.8709 - loss: 0.3101 - val_accuracy: 0.8914 - val_loss: 0.2709\n",
      "Epoch 3/10\n",
      "\u001b[1m157/157\u001b[0m \u001b[32m━━━━━━━━━━━━━━━━━━━━\u001b[0m\u001b[37m\u001b[0m \u001b[1m12s\u001b[0m 79ms/step - accuracy: 0.9299 - loss: 0.1851 - val_accuracy: 0.8940 - val_loss: 0.2811\n",
      "Epoch 4/10\n",
      "\u001b[1m157/157\u001b[0m \u001b[32m━━━━━━━━━━━━━━━━━━━━\u001b[0m\u001b[37m\u001b[0m \u001b[1m10s\u001b[0m 67ms/step - accuracy: 0.9685 - loss: 0.0985 - val_accuracy: 0.8982 - val_loss: 0.2880\n",
      "Epoch 5/10\n",
      "\u001b[1m157/157\u001b[0m \u001b[32m━━━━━━━━━━━━━━━━━━━━\u001b[0m\u001b[37m\u001b[0m \u001b[1m11s\u001b[0m 68ms/step - accuracy: 0.9859 - loss: 0.0516 - val_accuracy: 0.8940 - val_loss: 0.3278\n",
      "Epoch 6/10\n",
      "\u001b[1m157/157\u001b[0m \u001b[32m━━━━━━━━━━━━━━━━━━━━\u001b[0m\u001b[37m\u001b[0m \u001b[1m10s\u001b[0m 64ms/step - accuracy: 0.9945 - loss: 0.0249 - val_accuracy: 0.8898 - val_loss: 0.3852\n",
      "Epoch 7/10\n",
      "\u001b[1m157/157\u001b[0m \u001b[32m━━━━━━━━━━━━━━━━━━━━\u001b[0m\u001b[37m\u001b[0m \u001b[1m10s\u001b[0m 63ms/step - accuracy: 0.9969 - loss: 0.0144 - val_accuracy: 0.8910 - val_loss: 0.3958\n",
      "Epoch 8/10\n",
      "\u001b[1m157/157\u001b[0m \u001b[32m━━━━━━━━━━━━━━━━━━━━\u001b[0m\u001b[37m\u001b[0m \u001b[1m11s\u001b[0m 67ms/step - accuracy: 0.9981 - loss: 0.0085 - val_accuracy: 0.8896 - val_loss: 0.4713\n",
      "Epoch 9/10\n",
      "\u001b[1m157/157\u001b[0m \u001b[32m━━━━━━━━━━━━━━━━━━━━\u001b[0m\u001b[37m\u001b[0m \u001b[1m12s\u001b[0m 77ms/step - accuracy: 0.9991 - loss: 0.0052 - val_accuracy: 0.8882 - val_loss: 0.5078\n",
      "Epoch 10/10\n",
      "\u001b[1m157/157\u001b[0m \u001b[32m━━━━━━━━━━━━━━━━━━━━\u001b[0m\u001b[37m\u001b[0m \u001b[1m13s\u001b[0m 84ms/step - accuracy: 0.9985 - loss: 0.0052 - val_accuracy: 0.8916 - val_loss: 0.5031\n"
     ]
    }
   ],
   "source": [
    "print(\"Training Model...\")\n",
    "# เก็บส่วนหนึ่งของ training data ไว้เป็น validation\n",
    "history = model.fit(\n",
    "    x_train, y_train,\n",
    "    epochs=10,                    # train 10 รอบ\n",
    "    batch_size=128,               # ประมวลผลครั้งละ 128 samples\n",
    "    validation_split=0.2,         # เอา 20% ไว้ validation\n",
    "    verbose=1\n",
    ")"
   ]
  },
  {
   "cell_type": "markdown",
   "id": "a38b7eee",
   "metadata": {},
   "source": [
    "### 5. ประเมินผล"
   ]
  },
  {
   "cell_type": "code",
   "execution_count": 29,
   "id": "93ab5fce",
   "metadata": {},
   "outputs": [
    {
     "name": "stdout",
     "output_type": "stream",
     "text": [
      " Test Accuracy: 87.99%\n",
      " Test Loss: 0.5189\n"
     ]
    }
   ],
   "source": [
    "test_loss, test_accuracy = model.evaluate(x_test, y_test, verbose=0)\n",
    "print(f\" Test Accuracy: {test_accuracy*100:.2f}%\")\n",
    "print(f\" Test Loss: {test_loss:.4f}\")"
   ]
  },
  {
   "cell_type": "markdown",
   "id": "c094092c",
   "metadata": {},
   "source": [
    "### 6. บันทึก Model"
   ]
  },
  {
   "cell_type": "code",
   "execution_count": 32,
   "id": "4b312a09",
   "metadata": {},
   "outputs": [
    {
     "name": "stdout",
     "output_type": "stream",
     "text": [
      "Saving Model\n"
     ]
    }
   ],
   "source": [
    "print(\"Saving Model\")\n",
    "model.save('imdb_sentiment_cnn.keras')"
   ]
  },
  {
   "cell_type": "markdown",
   "id": "52a40535",
   "metadata": {},
   "source": [
    "### 7. Visualize Training History"
   ]
  },
  {
   "cell_type": "code",
   "execution_count": 33,
   "id": "b16df992",
   "metadata": {},
   "outputs": [
    {
     "data": {
      "image/png": "[encoded data removed]",
      "text/plain": [
       "<Figure size 1200x400 with 2 Axes>"
      ]
     },
     "metadata": {},
     "output_type": "display_data"
    }
   ],
   "source": [
    "plt.figure(figsize=(12, 4))\n",
    "\n",
    "# Plot Accuracy\n",
    "plt.subplot(1, 2, 1)\n",
    "plt.plot(history.history['accuracy'], label='Training Accuracy')\n",
    "plt.plot(history.history['val_accuracy'], label='Validation Accuracy')\n",
    "plt.title('Model Accuracy')\n",
    "plt.xlabel('Epoch')\n",
    "plt.ylabel('Accuracy')\n",
    "plt.legend()\n",
    "plt.grid(True)\n",
    "# Plot Loss\n",
    "plt.subplot(1, 2, 2)\n",
    "plt.plot(history.history['loss'], label='Training Loss')\n",
    "plt.plot(history.history['val_loss'], label='Validation Loss')\n",
    "plt.title('Model Loss')\n",
    "plt.xlabel('Epoch')\n",
    "plt.ylabel('Loss')\n",
    "plt.legend()\n",
    "plt.grid(True)\n",
    "\n",
    "plt.tight_layout()\n",
    "plt.savefig('training_history.png', dpi=150, bbox_inches='tight')\n",
    "plt.show()"
   ]
  }
 ],
 "metadata": {
  "kernelspec": {
   "display_name": "tfvenv",
   "language": "python",
   "name": "python3"
  },
  "language_info": {
   "codemirror_mode": {
    "name": "ipython",
    "version": 3
   },
   "file_extension": ".py",
   "mimetype": "text/x-python",
   "name": "python",
   "nbconvert_exporter": "python",
   "pygments_lexer": "ipython3",
   "version": "3.13.7"
  }
 },
 "nbformat": 4,
 "nbformat_minor": 5
}
